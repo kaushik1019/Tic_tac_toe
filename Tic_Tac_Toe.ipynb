{
 "cells": [
  {
   "cell_type": "markdown",
   "metadata": {},
   "source": [
    "# Implement a Tic Tac Toe game"
   ]
  },
  {
   "cell_type": "code",
   "execution_count": 1,
   "metadata": {
    "collapsed": true
   },
   "outputs": [],
   "source": [
    "def func_user_input(player_number, game_matrix):\n",
    "    while True:\n",
    "        user_input = input(\"Player {x}, enter your location (e.g. (0, 2))  \".format(x = player_number))\n",
    "\n",
    "        if(user_input[0] > 2 or user_input[1] > 2):\n",
    "            print(\"Please input values within the bounds!\")\n",
    "            continue\n",
    "        if(game_matrix[user_input] != 0):\n",
    "            print(\"Please choose an empty location!\")\n",
    "            continue\n",
    "        else:\n",
    "            break\n",
    "            \n",
    "    game_matrix[user_input] = player_number\n",
    "    print(game_matrix)\n",
    "    return game_matrix"
   ]
  },
  {
   "cell_type": "code",
   "execution_count": 2,
   "metadata": {
    "collapsed": true
   },
   "outputs": [],
   "source": [
    "def func_game_status(game_matrix):\n",
    "\n",
    "    # Check rows for wins\n",
    "    for row in range(0, 3, 1):\n",
    "        if(all(item for item in game_matrix[row, :] == 1)):\n",
    "            return 1\n",
    "        elif(all(item for item in game_matrix[row, :] == 2)):\n",
    "            return 2\n",
    "    \n",
    "    # Check columns for wins\n",
    "    for column in range(0, 3, 1):\n",
    "        if(all(item for item in game_matrix[:, column] == 1)):\n",
    "            return 1\n",
    "        elif(all(item for item in game_matrix[:, column] == 2)):\n",
    "            return 2\n",
    "    \n",
    "    # Check diagonals for wins\n",
    "    if((game_matrix[0, 0] == 1 and game_matrix[1, 1] == 1 and game_matrix[2, 2] == 1) or (game_matrix[2, 0] == 1 and game_matrix[1, 1] == 1 and game_matrix[0, 2] == 1)):\n",
    "        return 1\n",
    "    elif((game_matrix[0, 0] == 2 and game_matrix[1, 1] == 2 and game_matrix[2, 2] == 2) or (game_matrix[2, 0] == 2 and game_matrix[1, 1] == 2 and game_matrix[0, 2] == 2)):\n",
    "        return 2\n",
    "             \n",
    "    return 0"
   ]
  },
  {
   "cell_type": "code",
   "execution_count": 7,
   "metadata": {
    "collapsed": false
   },
   "outputs": [
    {
     "name": "stdout",
     "output_type": "stream",
     "text": [
      "Player 1, enter your location (e.g. (0, 2))  0,0,1\n"
     ]
    },
    {
     "ename": "TypeError",
     "evalue": "'>' not supported between instances of 'str' and 'int'",
     "output_type": "error",
     "traceback": [
      "\u001b[0;31m---------------------------------------------------------------------------\u001b[0m",
      "\u001b[0;31mTypeError\u001b[0m                                 Traceback (most recent call last)",
      "\u001b[0;32m<ipython-input-7-3f6a2d5d7687>\u001b[0m in \u001b[0;36m<module>\u001b[0;34m()\u001b[0m\n\u001b[1;32m      8\u001b[0m \u001b[1;33m\u001b[0m\u001b[0m\n\u001b[1;32m      9\u001b[0m     \u001b[1;32mif\u001b[0m\u001b[1;33m(\u001b[0m\u001b[0mturn\u001b[0m \u001b[1;33m%\u001b[0m \u001b[1;36m2\u001b[0m \u001b[1;33m==\u001b[0m \u001b[1;36m0\u001b[0m\u001b[1;33m)\u001b[0m\u001b[1;33m:\u001b[0m\u001b[1;33m\u001b[0m\u001b[0m\n\u001b[0;32m---> 10\u001b[0;31m         \u001b[0mfunc_user_input\u001b[0m\u001b[1;33m(\u001b[0m\u001b[1;36m1\u001b[0m\u001b[1;33m,\u001b[0m \u001b[0mgame_matrix\u001b[0m\u001b[1;33m)\u001b[0m\u001b[1;33m\u001b[0m\u001b[0m\n\u001b[0m\u001b[1;32m     11\u001b[0m     \u001b[1;32melse\u001b[0m\u001b[1;33m:\u001b[0m\u001b[1;33m\u001b[0m\u001b[0m\n\u001b[1;32m     12\u001b[0m         \u001b[0mfunc_user_input\u001b[0m\u001b[1;33m(\u001b[0m\u001b[1;36m2\u001b[0m\u001b[1;33m,\u001b[0m \u001b[0mgame_matrix\u001b[0m\u001b[1;33m)\u001b[0m\u001b[1;33m\u001b[0m\u001b[0m\n",
      "\u001b[0;32m<ipython-input-1-2c4f58109284>\u001b[0m in \u001b[0;36mfunc_user_input\u001b[0;34m(player_number, game_matrix)\u001b[0m\n\u001b[1;32m      3\u001b[0m         \u001b[0muser_input\u001b[0m \u001b[1;33m=\u001b[0m \u001b[0minput\u001b[0m\u001b[1;33m(\u001b[0m\u001b[1;34m\"Player {x}, enter your location (e.g. (0, 2))  \"\u001b[0m\u001b[1;33m.\u001b[0m\u001b[0mformat\u001b[0m\u001b[1;33m(\u001b[0m\u001b[0mx\u001b[0m \u001b[1;33m=\u001b[0m \u001b[0mplayer_number\u001b[0m\u001b[1;33m)\u001b[0m\u001b[1;33m)\u001b[0m\u001b[1;33m\u001b[0m\u001b[0m\n\u001b[1;32m      4\u001b[0m \u001b[1;33m\u001b[0m\u001b[0m\n\u001b[0;32m----> 5\u001b[0;31m         \u001b[1;32mif\u001b[0m\u001b[1;33m(\u001b[0m\u001b[0muser_input\u001b[0m\u001b[1;33m[\u001b[0m\u001b[1;36m0\u001b[0m\u001b[1;33m]\u001b[0m \u001b[1;33m>\u001b[0m \u001b[1;36m2\u001b[0m \u001b[1;32mor\u001b[0m \u001b[0muser_input\u001b[0m\u001b[1;33m[\u001b[0m\u001b[1;36m1\u001b[0m\u001b[1;33m]\u001b[0m \u001b[1;33m>\u001b[0m \u001b[1;36m2\u001b[0m\u001b[1;33m)\u001b[0m\u001b[1;33m:\u001b[0m\u001b[1;33m\u001b[0m\u001b[0m\n\u001b[0m\u001b[1;32m      6\u001b[0m             \u001b[0mprint\u001b[0m\u001b[1;33m(\u001b[0m\u001b[1;34m\"Please input values within the bounds!\"\u001b[0m\u001b[1;33m)\u001b[0m\u001b[1;33m\u001b[0m\u001b[0m\n\u001b[1;32m      7\u001b[0m             \u001b[1;32mcontinue\u001b[0m\u001b[1;33m\u001b[0m\u001b[0m\n",
      "\u001b[0;31mTypeError\u001b[0m: '>' not supported between instances of 'str' and 'int'"
     ]
    }
   ],
   "source": [
    "# Create game matrix\n",
    "import numpy as np\n",
    "game_matrix = np.array([(0, 0, 0), (0, 0, 0), (0, 0, 0)])\n",
    "\n",
    "# Start taking user inputs\n",
    "for turn in range(0, 9, 1):\n",
    "    user_input = ()\n",
    "    \n",
    "    if(turn % 2 == 0):\n",
    "        func_user_input(1, game_matrix)         \n",
    "    else:\n",
    "        func_user_input(2, game_matrix)\n",
    "    \n",
    "    if(turn == 8):\n",
    "        print(\"\\n---- GAME DRAW ----\")\n",
    "        break\n",
    "    elif(func_game_status(game_matrix) == 1):\n",
    "        print(\"\\n---- PLAYER ONE WINS ----\")\n",
    "        break\n",
    "    elif(func_game_status(game_matrix) == 2):\n",
    "        print(\"\\n---- PLAYER TWO WINS ----\")\n",
    "        break"
   ]
  }
 ],
 "metadata": {
  "kernelspec": {
   "display_name": "Python 3",
   "language": "python",
   "name": "python3"
  },
  "language_info": {
   "codemirror_mode": {
    "name": "ipython",
    "version": 3
   },
   "file_extension": ".py",
   "mimetype": "text/x-python",
   "name": "python",
   "nbconvert_exporter": "python",
   "pygments_lexer": "ipython3",
   "version": "3.6.0"
  }
 },
 "nbformat": 4,
 "nbformat_minor": 2
}
